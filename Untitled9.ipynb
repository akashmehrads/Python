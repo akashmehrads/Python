{
 "cells": [
  {
   "cell_type": "markdown",
   "metadata": {},
   "source": [
    "Numpy 10 May 2021"
   ]
  },
  {
   "cell_type": "code",
   "execution_count": 2,
   "metadata": {},
   "outputs": [],
   "source": [
    "import numpy as np"
   ]
  },
  {
   "cell_type": "code",
   "execution_count": 3,
   "metadata": {},
   "outputs": [],
   "source": [
    "mylist1=[2,4,6,8,10]\n",
    "mylist2=[1,3,5,7,9]"
   ]
  },
  {
   "cell_type": "code",
   "execution_count": 4,
   "metadata": {},
   "outputs": [
    {
     "name": "stdout",
     "output_type": "stream",
     "text": [
      "[ 2  4  6  8 10]\n"
     ]
    }
   ],
   "source": [
    "n1=np.array(mylist1)\n",
    "print(n1)"
   ]
  },
  {
   "cell_type": "code",
   "execution_count": 5,
   "metadata": {},
   "outputs": [
    {
     "name": "stdout",
     "output_type": "stream",
     "text": [
      "<class 'numpy.ndarray'>\n"
     ]
    }
   ],
   "source": [
    "print(type(n1))"
   ]
  },
  {
   "cell_type": "code",
   "execution_count": 8,
   "metadata": {},
   "outputs": [
    {
     "name": "stdout",
     "output_type": "stream",
     "text": [
      "[1 3 5 7 9]\n"
     ]
    }
   ],
   "source": [
    "n2=np.array(mylist2)\n",
    "print(n2)"
   ]
  },
  {
   "cell_type": "code",
   "execution_count": 9,
   "metadata": {},
   "outputs": [
    {
     "data": {
      "text/plain": [
       "array([ 3,  7, 11, 15, 19])"
      ]
     },
     "execution_count": 9,
     "metadata": {},
     "output_type": "execute_result"
    }
   ],
   "source": [
    "n1+n2"
   ]
  },
  {
   "cell_type": "code",
   "execution_count": 10,
   "metadata": {},
   "outputs": [
    {
     "data": {
      "text/plain": [
       "array([1, 1, 1, 1, 1])"
      ]
     },
     "execution_count": 10,
     "metadata": {},
     "output_type": "execute_result"
    }
   ],
   "source": [
    "n1-n2"
   ]
  },
  {
   "cell_type": "code",
   "execution_count": 12,
   "metadata": {},
   "outputs": [
    {
     "name": "stdout",
     "output_type": "stream",
     "text": [
      "int64\n"
     ]
    }
   ],
   "source": [
    "print(n1.dtype)"
   ]
  },
  {
   "cell_type": "code",
   "execution_count": 13,
   "metadata": {},
   "outputs": [
    {
     "data": {
      "text/plain": [
       "(5,)"
      ]
     },
     "execution_count": 13,
     "metadata": {},
     "output_type": "execute_result"
    }
   ],
   "source": [
    "n1.shape"
   ]
  },
  {
   "cell_type": "code",
   "execution_count": 14,
   "metadata": {},
   "outputs": [
    {
     "data": {
      "text/plain": [
       "8"
      ]
     },
     "execution_count": 14,
     "metadata": {},
     "output_type": "execute_result"
    }
   ],
   "source": [
    "n1.itemsize"
   ]
  },
  {
   "cell_type": "code",
   "execution_count": 15,
   "metadata": {},
   "outputs": [
    {
     "data": {
      "text/plain": [
       "5"
      ]
     },
     "execution_count": 15,
     "metadata": {},
     "output_type": "execute_result"
    }
   ],
   "source": [
    "n1.size"
   ]
  },
  {
   "cell_type": "code",
   "execution_count": null,
   "metadata": {},
   "outputs": [],
   "source": [
    "#create \n",
    "#   234\n",
    "#   567"
   ]
  },
  {
   "cell_type": "code",
   "execution_count": 16,
   "metadata": {},
   "outputs": [
    {
     "name": "stdout",
     "output_type": "stream",
     "text": [
      "(2, 3)\n",
      "[[2 3 4]\n",
      " [5 6 7]]\n"
     ]
    }
   ],
   "source": [
    "mylist23=[[2,3,4],[5,6,7]]\n",
    "n23=np.array(mylist23)\n",
    "print(n23.shape)\n",
    "print(n23)"
   ]
  },
  {
   "cell_type": "code",
   "execution_count": 17,
   "metadata": {},
   "outputs": [
    {
     "data": {
      "text/plain": [
       "2"
      ]
     },
     "execution_count": 17,
     "metadata": {},
     "output_type": "execute_result"
    }
   ],
   "source": [
    "n23.ndim"
   ]
  },
  {
   "cell_type": "code",
   "execution_count": 18,
   "metadata": {},
   "outputs": [
    {
     "data": {
      "text/plain": [
       "6"
      ]
     },
     "execution_count": 18,
     "metadata": {},
     "output_type": "execute_result"
    }
   ],
   "source": [
    "n23.size"
   ]
  },
  {
   "cell_type": "code",
   "execution_count": 19,
   "metadata": {},
   "outputs": [
    {
     "data": {
      "text/plain": [
       "(2, 3)"
      ]
     },
     "execution_count": 19,
     "metadata": {},
     "output_type": "execute_result"
    }
   ],
   "source": [
    "n23.shape"
   ]
  },
  {
   "cell_type": "code",
   "execution_count": 20,
   "metadata": {},
   "outputs": [
    {
     "data": {
      "text/plain": [
       "8"
      ]
     },
     "execution_count": 20,
     "metadata": {},
     "output_type": "execute_result"
    }
   ],
   "source": [
    "n23.itemsize"
   ]
  },
  {
   "cell_type": "code",
   "execution_count": 21,
   "metadata": {},
   "outputs": [
    {
     "data": {
      "text/plain": [
       "48"
      ]
     },
     "execution_count": 21,
     "metadata": {},
     "output_type": "execute_result"
    }
   ],
   "source": [
    "n23.size*n23.itemsize"
   ]
  },
  {
   "cell_type": "code",
   "execution_count": 24,
   "metadata": {},
   "outputs": [
    {
     "name": "stdout",
     "output_type": "stream",
     "text": [
      "[10 12 14 16 18 20 22]\n",
      "(7,)\n"
     ]
    }
   ],
   "source": [
    "n34=np.arange(10,23,2)\n",
    "print(n34)\n",
    "print(n34.shape)"
   ]
  },
  {
   "cell_type": "code",
   "execution_count": 26,
   "metadata": {},
   "outputs": [
    {
     "name": "stdout",
     "output_type": "stream",
     "text": [
      "[[ 0  1  2  3]\n",
      " [ 4  5  6  7]\n",
      " [ 8  9 10 11]]\n"
     ]
    }
   ],
   "source": [
    "n34=np.arange(12).reshape(3,4)\n",
    "print(n34)"
   ]
  },
  {
   "cell_type": "code",
   "execution_count": 27,
   "metadata": {},
   "outputs": [
    {
     "name": "stdout",
     "output_type": "stream",
     "text": [
      "[[ 0  1  2  3  4  5]\n",
      " [ 6  7  8  9 10 11]]\n"
     ]
    }
   ],
   "source": [
    "n26=n34.reshape(2,6)\n",
    "print(n26)"
   ]
  },
  {
   "cell_type": "code",
   "execution_count": 28,
   "metadata": {},
   "outputs": [
    {
     "name": "stdout",
     "output_type": "stream",
     "text": [
      "[[[ 0  1]\n",
      "  [ 2  3]\n",
      "  [ 4  5]]\n",
      "\n",
      " [[ 6  7]\n",
      "  [ 8  9]\n",
      "  [10 11]]\n",
      "\n",
      " [[12 13]\n",
      "  [14 15]\n",
      "  [16 17]]\n",
      "\n",
      " [[18 19]\n",
      "  [20 21]\n",
      "  [22 23]]]\n"
     ]
    }
   ],
   "source": [
    "n432=np.arange(24).reshape(4,3,2)\n",
    "print(n432)"
   ]
  },
  {
   "cell_type": "code",
   "execution_count": 29,
   "metadata": {
    "scrolled": true
   },
   "outputs": [
    {
     "name": "stdout",
     "output_type": "stream",
     "text": [
      "(4, 6)\n",
      "[[23 83 63 54 95 61]\n",
      " [16 44 74 64 12 34]\n",
      " [19 28 17 94 89 39]\n",
      " [29 31 19 33 17 69]]\n"
     ]
    }
   ],
   "source": [
    "n46=np.random.randint(low=10,high=100,size=(4,6))\n",
    "print(n46.shape)\n",
    "print(n46)"
   ]
  },
  {
   "cell_type": "code",
   "execution_count": 38,
   "metadata": {},
   "outputs": [
    {
     "name": "stdout",
     "output_type": "stream",
     "text": [
      "[[2 1 1 2]\n",
      " [1 1 2 2]\n",
      " [1 2 2 1]]\n"
     ]
    }
   ],
   "source": [
    "np.random.seed(23)\n",
    "n34=np.random.randint(1,3,(3,4))\n",
    "print(n34)"
   ]
  },
  {
   "cell_type": "code",
   "execution_count": 33,
   "metadata": {},
   "outputs": [
    {
     "data": {
      "text/plain": [
       "array([[4, 1, 1, 4],\n",
       "       [1, 1, 4, 4],\n",
       "       [1, 4, 4, 1]])"
      ]
     },
     "execution_count": 33,
     "metadata": {},
     "output_type": "execute_result"
    }
   ],
   "source": [
    "np.power(n34,2)"
   ]
  },
  {
   "cell_type": "code",
   "execution_count": 35,
   "metadata": {},
   "outputs": [
    {
     "name": "stdout",
     "output_type": "stream",
     "text": [
      "[[4 7 1 2]\n",
      " [7 1 8 6]\n",
      " [5 4 8 3]]\n"
     ]
    }
   ],
   "source": [
    "np.random.seed(23)\n",
    "n34p=np.random.randint(1,9,(3,4))\n",
    "print(n34p)"
   ]
  },
  {
   "cell_type": "code",
   "execution_count": 39,
   "metadata": {},
   "outputs": [
    {
     "data": {
      "text/plain": [
       "array([[16,  7,  1,  4],\n",
       "       [ 7,  1, 64, 36],\n",
       "       [ 5, 16, 64,  3]])"
      ]
     },
     "execution_count": 39,
     "metadata": {},
     "output_type": "execute_result"
    }
   ],
   "source": [
    "np.power(n34p,n34)"
   ]
  },
  {
   "cell_type": "code",
   "execution_count": 40,
   "metadata": {},
   "outputs": [
    {
     "name": "stdout",
     "output_type": "stream",
     "text": [
      "[[  10  100 1000]\n",
      " [  10  100 1000]]\n"
     ]
    }
   ],
   "source": [
    "n23=np.array([[10,100,1000],[10,100,1000]])\n",
    "print(n23)"
   ]
  },
  {
   "cell_type": "code",
   "execution_count": null,
   "metadata": {},
   "outputs": [],
   "source": []
  },
  {
   "cell_type": "code",
   "execution_count": null,
   "metadata": {},
   "outputs": [],
   "source": []
  },
  {
   "cell_type": "code",
   "execution_count": 44,
   "metadata": {
    "scrolled": true
   },
   "outputs": [
    {
     "data": {
      "text/plain": [
       "54.598150033144236"
      ]
     },
     "execution_count": 44,
     "metadata": {},
     "output_type": "execute_result"
    }
   ],
   "source": [
    "np.exp(4)"
   ]
  },
  {
   "cell_type": "code",
   "execution_count": 46,
   "metadata": {},
   "outputs": [
    {
     "name": "stdout",
     "output_type": "stream",
     "text": [
      "[[ 2  4  8]\n",
      " [16 32 64]]\n"
     ]
    },
    {
     "data": {
      "text/plain": [
       "array([[7.38905610e+00, 5.45981500e+01, 2.98095799e+03],\n",
       "       [8.88611052e+06, 7.89629602e+13, 6.23514908e+27]])"
      ]
     },
     "execution_count": 46,
     "metadata": {},
     "output_type": "execute_result"
    }
   ],
   "source": [
    "n23=np.array([[2,4,8],[16,32,64]])\n",
    "print(n23)\n",
    "np.exp(n23)\n"
   ]
  },
  {
   "cell_type": "code",
   "execution_count": 53,
   "metadata": {},
   "outputs": [
    {
     "name": "stdout",
     "output_type": "stream",
     "text": [
      "7.3890560989306495\n",
      "7.38905609893065\n"
     ]
    }
   ],
   "source": [
    "print(np.e**2)\n",
    "print(np.exp(2))"
   ]
  },
  {
   "cell_type": "code",
   "execution_count": null,
   "metadata": {},
   "outputs": [],
   "source": []
  },
  {
   "cell_type": "markdown",
   "metadata": {},
   "source": [
    "Access and Mutability"
   ]
  },
  {
   "cell_type": "code",
   "execution_count": 56,
   "metadata": {},
   "outputs": [
    {
     "name": "stdout",
     "output_type": "stream",
     "text": [
      "[[93 50 83 64 41 86 49 35 61]\n",
      " [16 55 22 59 76 85 95 79 74]\n",
      " [22 31 58 51 89 72 67 29 43]\n",
      " [69 49 25 46 75 11 53 25 96]\n",
      " [93 68 35 76 84 45 66 23 70]\n",
      " [32 48 41 88 10 31 16 42 42]\n",
      " [24 41 88 93 90 80 76 92 95]\n",
      " [65 37 72 53 84 81 52 93 31]]\n"
     ]
    }
   ],
   "source": [
    "np.random.seed(23)\n",
    "n89=np.random.randint(10,100,(8,9))\n",
    "print(n89)"
   ]
  },
  {
   "cell_type": "code",
   "execution_count": 57,
   "metadata": {},
   "outputs": [
    {
     "data": {
      "text/plain": [
       "array([93, 50, 83, 64, 41, 86, 49, 35, 61])"
      ]
     },
     "execution_count": 57,
     "metadata": {},
     "output_type": "execute_result"
    }
   ],
   "source": [
    "n89[0]"
   ]
  },
  {
   "cell_type": "code",
   "execution_count": 58,
   "metadata": {},
   "outputs": [
    {
     "data": {
      "text/plain": [
       "array([65, 37, 72, 53, 84, 81, 52, 93, 31])"
      ]
     },
     "execution_count": 58,
     "metadata": {},
     "output_type": "execute_result"
    }
   ],
   "source": [
    "n89[-1]"
   ]
  },
  {
   "cell_type": "code",
   "execution_count": 59,
   "metadata": {},
   "outputs": [
    {
     "data": {
      "text/plain": [
       "93"
      ]
     },
     "execution_count": 59,
     "metadata": {},
     "output_type": "execute_result"
    }
   ],
   "source": [
    "n89[0,0]"
   ]
  },
  {
   "cell_type": "code",
   "execution_count": 60,
   "metadata": {},
   "outputs": [
    {
     "data": {
      "text/plain": [
       "31"
      ]
     },
     "execution_count": 60,
     "metadata": {},
     "output_type": "execute_result"
    }
   ],
   "source": [
    "n89[-1,-1]"
   ]
  },
  {
   "cell_type": "code",
   "execution_count": 61,
   "metadata": {},
   "outputs": [
    {
     "data": {
      "text/plain": [
       "61"
      ]
     },
     "execution_count": 61,
     "metadata": {},
     "output_type": "execute_result"
    }
   ],
   "source": [
    "n89[0,-1]"
   ]
  },
  {
   "cell_type": "code",
   "execution_count": 62,
   "metadata": {},
   "outputs": [
    {
     "data": {
      "text/plain": [
       "65"
      ]
     },
     "execution_count": 62,
     "metadata": {},
     "output_type": "execute_result"
    }
   ],
   "source": [
    "n89[-1,0]"
   ]
  },
  {
   "cell_type": "code",
   "execution_count": 64,
   "metadata": {},
   "outputs": [
    {
     "data": {
      "text/plain": [
       "75"
      ]
     },
     "execution_count": 64,
     "metadata": {},
     "output_type": "execute_result"
    }
   ],
   "source": [
    "n89[3,4]"
   ]
  },
  {
   "cell_type": "code",
   "execution_count": 65,
   "metadata": {},
   "outputs": [
    {
     "data": {
      "text/plain": [
       "array([[93, 50, 83, 64, 41, 86, 49, 35, 61],\n",
       "       [16, 55, 22, 59, 76, 85, 95, 79, 74],\n",
       "       [22, 31, 58, 51, 89, 72, 67, 29, 43],\n",
       "       [69, 49, 25, 46, 75, 11, 53, 25, 96],\n",
       "       [93, 68, 35, 76, 84, 45, 66, 23, 70],\n",
       "       [32, 48, 41, 88, 10, 31, 16, 42, 42],\n",
       "       [24, 41, 88, 93, 90, 80, 76, 92, 95],\n",
       "       [65, 37, 72, 53, 84, 81, 52, 93, 31]])"
      ]
     },
     "execution_count": 65,
     "metadata": {},
     "output_type": "execute_result"
    }
   ],
   "source": [
    "n89"
   ]
  },
  {
   "cell_type": "code",
   "execution_count": null,
   "metadata": {},
   "outputs": [],
   "source": []
  },
  {
   "cell_type": "code",
   "execution_count": 67,
   "metadata": {},
   "outputs": [
    {
     "data": {
      "text/plain": [
       "array([[16, 55, 22, 59, 76, 85, 95, 79, 74],\n",
       "       [22, 31, 58, 51, 89, 72, 67, 29, 43],\n",
       "       [69, 49, 25, 46, 75, 11, 53, 25, 96]])"
      ]
     },
     "execution_count": 67,
     "metadata": {},
     "output_type": "execute_result"
    }
   ],
   "source": [
    "n89[1:4]"
   ]
  },
  {
   "cell_type": "code",
   "execution_count": 68,
   "metadata": {
    "scrolled": true
   },
   "outputs": [
    {
     "data": {
      "text/plain": [
       "array([[58, 51, 89, 72],\n",
       "       [25, 46, 75, 11],\n",
       "       [35, 76, 84, 45]])"
      ]
     },
     "execution_count": 68,
     "metadata": {},
     "output_type": "execute_result"
    }
   ],
   "source": [
    "n89[2:5,2:6]"
   ]
  },
  {
   "cell_type": "code",
   "execution_count": 69,
   "metadata": {},
   "outputs": [
    {
     "data": {
      "text/plain": [
       "array([[16, 55, 22, 59, 76, 85, 95, 79, 74],\n",
       "       [69, 49, 25, 46, 75, 11, 53, 25, 96],\n",
       "       [32, 48, 41, 88, 10, 31, 16, 42, 42]])"
      ]
     },
     "execution_count": 69,
     "metadata": {},
     "output_type": "execute_result"
    }
   ],
   "source": [
    "n89[1:6:2]"
   ]
  },
  {
   "cell_type": "code",
   "execution_count": 70,
   "metadata": {},
   "outputs": [
    {
     "data": {
      "text/plain": [
       "array([[16, 55, 22, 59, 76, 85, 95, 79, 74],\n",
       "       [69, 49, 25, 46, 75, 11, 53, 25, 96],\n",
       "       [24, 41, 88, 93, 90, 80, 76, 92, 95],\n",
       "       [65, 37, 72, 53, 84, 81, 52, 93, 31]])"
      ]
     },
     "execution_count": 70,
     "metadata": {},
     "output_type": "execute_result"
    }
   ],
   "source": [
    "n89[[1,3,-2,-1]]"
   ]
  },
  {
   "cell_type": "code",
   "execution_count": 71,
   "metadata": {},
   "outputs": [
    {
     "data": {
      "text/plain": [
       "array([22, 75, 16])"
      ]
     },
     "execution_count": 71,
     "metadata": {},
     "output_type": "execute_result"
    }
   ],
   "source": [
    "n89[[1,3,5],[2,4,6]]"
   ]
  },
  {
   "cell_type": "code",
   "execution_count": 72,
   "metadata": {},
   "outputs": [
    {
     "data": {
      "text/plain": [
       "array([41, 76, 89, 75, 84, 10, 90, 84])"
      ]
     },
     "execution_count": 72,
     "metadata": {},
     "output_type": "execute_result"
    }
   ],
   "source": [
    "n89[:,4]"
   ]
  },
  {
   "cell_type": "code",
   "execution_count": 73,
   "metadata": {
    "scrolled": true
   },
   "outputs": [
    {
     "data": {
      "text/plain": [
       "array([[93, 50, 83, 64, 41, 86, 49, 35, 61],\n",
       "       [16, 55, 22, 59, 76, 85, 95, 79, 74],\n",
       "       [22, 31, 58, 51, 89, 72, 67, 29, 43],\n",
       "       [69, 49, 25, 46, 75, 11, 53, 25, 96],\n",
       "       [93, 68, 35, 76, 84, 45, 66, 23, 70],\n",
       "       [32, 48, 41, 88, 10, 31, 16, 42, 42],\n",
       "       [24, 41, 88, 93, 90, 80, 76, 92, 95],\n",
       "       [65, 37, 72, 53, 84, 81, 52, 93, 31]])"
      ]
     },
     "execution_count": 73,
     "metadata": {},
     "output_type": "execute_result"
    }
   ],
   "source": [
    "n89"
   ]
  },
  {
   "cell_type": "code",
   "execution_count": 74,
   "metadata": {},
   "outputs": [
    {
     "data": {
      "text/plain": [
       "array([[50, 86, 35],\n",
       "       [55, 85, 79],\n",
       "       [31, 72, 29],\n",
       "       [49, 11, 25],\n",
       "       [68, 45, 23],\n",
       "       [48, 31, 42],\n",
       "       [41, 80, 92],\n",
       "       [37, 81, 93]])"
      ]
     },
     "execution_count": 74,
     "metadata": {},
     "output_type": "execute_result"
    }
   ],
   "source": [
    "n89[:,[1,5,7]]"
   ]
  },
  {
   "cell_type": "code",
   "execution_count": 76,
   "metadata": {},
   "outputs": [
    {
     "name": "stdout",
     "output_type": "stream",
     "text": [
      "[[ True False  True  True False  True False False  True]\n",
      " [False  True False  True  True  True  True  True  True]\n",
      " [False False  True  True  True  True  True False False]\n",
      " [ True False False False  True False  True False  True]\n",
      " [ True  True False  True  True False  True False  True]\n",
      " [False False False  True False False False False False]\n",
      " [False False  True  True  True  True  True  True  True]\n",
      " [ True False  True  True  True  True  True  True False]]\n"
     ]
    }
   ],
   "source": [
    "mask=n89>50\n",
    "print(mask)"
   ]
  },
  {
   "cell_type": "code",
   "execution_count": 77,
   "metadata": {},
   "outputs": [
    {
     "data": {
      "text/plain": [
       "array([93, 83, 64, 86, 61, 55, 59, 76, 85, 95, 79, 74, 58, 51, 89, 72, 67,\n",
       "       69, 75, 53, 96, 93, 68, 76, 84, 66, 70, 88, 88, 93, 90, 80, 76, 92,\n",
       "       95, 65, 72, 53, 84, 81, 52, 93])"
      ]
     },
     "execution_count": 77,
     "metadata": {},
     "output_type": "execute_result"
    }
   ],
   "source": [
    "n89[mask]"
   ]
  },
  {
   "cell_type": "code",
   "execution_count": 78,
   "metadata": {},
   "outputs": [
    {
     "data": {
      "text/plain": [
       "array([93, 83, 64, 86, 61, 55, 59, 76, 85, 95, 79, 74, 58, 51, 89, 72, 67,\n",
       "       69, 75, 53, 96, 93, 68, 76, 84, 66, 70, 88, 88, 93, 90, 80, 76, 92,\n",
       "       95, 65, 72, 53, 84, 81, 52, 93])"
      ]
     },
     "execution_count": 78,
     "metadata": {},
     "output_type": "execute_result"
    }
   ],
   "source": [
    "n89[n89>50]"
   ]
  },
  {
   "cell_type": "code",
   "execution_count": 79,
   "metadata": {},
   "outputs": [
    {
     "data": {
      "text/plain": [
       "array([16, 11, 10, 16])"
      ]
     },
     "execution_count": 79,
     "metadata": {},
     "output_type": "execute_result"
    }
   ],
   "source": [
    "n89[(n89>20)==False]"
   ]
  },
  {
   "cell_type": "code",
   "execution_count": 84,
   "metadata": {},
   "outputs": [
    {
     "data": {
      "text/plain": [
       "array([50, 64, 86, 22, 76, 74, 22, 58, 72, 46, 96, 68, 76, 84, 66, 70, 32,\n",
       "       48, 88, 42, 42, 24, 88, 90, 80, 76, 92, 72, 84, 52])"
      ]
     },
     "execution_count": 84,
     "metadata": {},
     "output_type": "execute_result"
    }
   ],
   "source": [
    "n89[(n89>20)&(n89%2==0)]"
   ]
  },
  {
   "cell_type": "code",
   "execution_count": 87,
   "metadata": {},
   "outputs": [
    {
     "data": {
      "text/plain": [
       "array([[  93,   50,   83,   64,   41,   86,   49,   35,   61],\n",
       "       [  16,   55,   22,   59,   76,   85,   95,   79,   74],\n",
       "       [1000, 1001, 1002, 1003, 1004, 1005, 1006, 1007, 1008],\n",
       "       [1009, 1010, 1011, 1012, 1013, 1014, 1015, 1016, 1017],\n",
       "       [  93,   68,   35,   76,   84,   45,   66,   23,   70],\n",
       "       [  32,   48,   41,   88,   10,   31,   16,   42,   42],\n",
       "       [  24,   41,   88,   93,   90,   80,   76,   92,   95],\n",
       "       [  65,   37,   72,   53,   84,   81,   52,   93,   31]])"
      ]
     },
     "execution_count": 87,
     "metadata": {},
     "output_type": "execute_result"
    }
   ],
   "source": [
    "n89[2:4]=np.arange(1000,1018).reshape(2,9)\n",
    "n89"
   ]
  },
  {
   "cell_type": "code",
   "execution_count": 88,
   "metadata": {},
   "outputs": [
    {
     "data": {
      "text/plain": [
       "array([0, 1, 2, 3, 4, 5, 6, 7, 8])"
      ]
     },
     "execution_count": 88,
     "metadata": {},
     "output_type": "execute_result"
    }
   ],
   "source": [
    "n9=np.arange(9)\n",
    "n9"
   ]
  },
  {
   "cell_type": "code",
   "execution_count": 92,
   "metadata": {
    "scrolled": true
   },
   "outputs": [
    {
     "name": "stdout",
     "output_type": "stream",
     "text": [
      "(9, 9)\n",
      "[[  93   50   83   64   41   86   49   35   61]\n",
      " [   0    1    2    3    4    5    6    7    8]\n",
      " [  16   55   22   59   76   85   95   79   74]\n",
      " [1000 1001 1002 1003 1004 1005 1006 1007 1008]\n",
      " [1009 1010 1011 1012 1013 1014 1015 1016 1017]\n",
      " [  93   68   35   76   84   45   66   23   70]\n",
      " [  32   48   41   88   10   31   16   42   42]\n",
      " [  24   41   88   93   90   80   76   92   95]\n",
      " [  65   37   72   53   84   81   52   93   31]]\n"
     ]
    }
   ],
   "source": [
    "n=np.insert(n89,1,axis=0,values=n9)\n",
    "print(n.shape)\n",
    "print(n)"
   ]
  },
  {
   "cell_type": "markdown",
   "metadata": {},
   "source": [
    "Broadcasting"
   ]
  },
  {
   "cell_type": "code",
   "execution_count": 2,
   "metadata": {},
   "outputs": [
    {
     "data": {
      "text/plain": [
       "array([[ 0,  1,  2,  3],\n",
       "       [ 4,  5,  6,  7],\n",
       "       [ 8,  9, 10, 11]])"
      ]
     },
     "execution_count": 2,
     "metadata": {},
     "output_type": "execute_result"
    }
   ],
   "source": [
    "import numpy as np\n",
    "n34=np.arange(12).reshape(3,4)\n",
    "n34"
   ]
  },
  {
   "cell_type": "code",
   "execution_count": 3,
   "metadata": {},
   "outputs": [
    {
     "data": {
      "text/plain": [
       "array([[20, 21, 22, 23],\n",
       "       [24, 25, 26, 27],\n",
       "       [28, 29, 30, 31]])"
      ]
     },
     "execution_count": 3,
     "metadata": {},
     "output_type": "execute_result"
    }
   ],
   "source": [
    "n34+20   #scalar broadcasting"
   ]
  },
  {
   "cell_type": "code",
   "execution_count": 8,
   "metadata": {},
   "outputs": [
    {
     "data": {
      "text/plain": [
       "array([[20, 21, 22, 23]])"
      ]
     },
     "execution_count": 8,
     "metadata": {},
     "output_type": "execute_result"
    }
   ],
   "source": [
    "n14=np.arange(20,24).reshape(1,4)\n",
    "n14"
   ]
  },
  {
   "cell_type": "code",
   "execution_count": 10,
   "metadata": {},
   "outputs": [
    {
     "name": "stdout",
     "output_type": "stream",
     "text": [
      "[[ 0  1  2  3]\n",
      " [ 4  5  6  7]\n",
      " [ 8  9 10 11]]\n",
      "[[20 22 24 26]\n",
      " [24 26 28 30]\n",
      " [28 30 32 34]]\n"
     ]
    }
   ],
   "source": [
    "print(n34)\n",
    "print(n34+n14)"
   ]
  },
  {
   "cell_type": "code",
   "execution_count": 11,
   "metadata": {},
   "outputs": [
    {
     "data": {
      "text/plain": [
       "array([[0, 1, 2]])"
      ]
     },
     "execution_count": 11,
     "metadata": {},
     "output_type": "execute_result"
    }
   ],
   "source": [
    "n13=np.arange(3).reshape(1,3)\n",
    "n13\n"
   ]
  },
  {
   "cell_type": "code",
   "execution_count": 12,
   "metadata": {},
   "outputs": [
    {
     "data": {
      "text/plain": [
       "array([[100],\n",
       "       [101],\n",
       "       [102],\n",
       "       [103]])"
      ]
     },
     "execution_count": 12,
     "metadata": {},
     "output_type": "execute_result"
    }
   ],
   "source": [
    "n41=np.arange(100,104).reshape(4,1)\n",
    "n41"
   ]
  },
  {
   "cell_type": "code",
   "execution_count": 13,
   "metadata": {},
   "outputs": [
    {
     "data": {
      "text/plain": [
       "array([[100, 101, 102],\n",
       "       [101, 102, 103],\n",
       "       [102, 103, 104],\n",
       "       [103, 104, 105]])"
      ]
     },
     "execution_count": 13,
     "metadata": {},
     "output_type": "execute_result"
    }
   ],
   "source": [
    "n13+n41"
   ]
  },
  {
   "cell_type": "code",
   "execution_count": 14,
   "metadata": {},
   "outputs": [
    {
     "data": {
      "text/plain": [
       "array([[ 0,  1,  2,  3],\n",
       "       [ 4,  5,  6,  7],\n",
       "       [ 8,  9, 10, 11]])"
      ]
     },
     "execution_count": 14,
     "metadata": {},
     "output_type": "execute_result"
    }
   ],
   "source": [
    "n34"
   ]
  },
  {
   "cell_type": "code",
   "execution_count": 15,
   "metadata": {},
   "outputs": [
    {
     "data": {
      "text/plain": [
       "66"
      ]
     },
     "execution_count": 15,
     "metadata": {},
     "output_type": "execute_result"
    }
   ],
   "source": [
    "np.sum(n34)"
   ]
  },
  {
   "cell_type": "code",
   "execution_count": 16,
   "metadata": {},
   "outputs": [
    {
     "data": {
      "text/plain": [
       "array([12, 15, 18, 21])"
      ]
     },
     "execution_count": 16,
     "metadata": {},
     "output_type": "execute_result"
    }
   ],
   "source": [
    "np.sum(n34,axis=0)"
   ]
  },
  {
   "cell_type": "code",
   "execution_count": 17,
   "metadata": {},
   "outputs": [
    {
     "data": {
      "text/plain": [
       "array([ 6, 22, 38])"
      ]
     },
     "execution_count": 17,
     "metadata": {},
     "output_type": "execute_result"
    }
   ],
   "source": [
    "np.sum(n34,axis=1)"
   ]
  },
  {
   "cell_type": "code",
   "execution_count": 18,
   "metadata": {},
   "outputs": [
    {
     "data": {
      "text/plain": [
       "array([[999,   1,   2,   3],\n",
       "       [  4,   5,   6,   7],\n",
       "       [  8,   9,  10,  11]])"
      ]
     },
     "execution_count": 18,
     "metadata": {},
     "output_type": "execute_result"
    }
   ],
   "source": [
    "n34[0,0]=999\n",
    "n34"
   ]
  },
  {
   "cell_type": "code",
   "execution_count": 19,
   "metadata": {},
   "outputs": [
    {
     "data": {
      "text/plain": [
       "array([[999,   1,   2,   3],\n",
       "       [  4,   5,   6,   7],\n",
       "       [  8,   9,  10,  11]])"
      ]
     },
     "execution_count": 19,
     "metadata": {},
     "output_type": "execute_result"
    }
   ],
   "source": [
    "n34"
   ]
  },
  {
   "cell_type": "code",
   "execution_count": 20,
   "metadata": {},
   "outputs": [
    {
     "data": {
      "text/plain": [
       "array([999,   1,   2,   3,   4,   5,   6,   7,   8,   9,  10,  11])"
      ]
     },
     "execution_count": 20,
     "metadata": {},
     "output_type": "execute_result"
    }
   ],
   "source": [
    "n1=n34.flatten()\n",
    "n1"
   ]
  },
  {
   "cell_type": "code",
   "execution_count": 22,
   "metadata": {},
   "outputs": [
    {
     "data": {
      "text/plain": [
       "array([999,   1,   2,   3,   4,   5,   6,   7,   8,   9,  10,  11])"
      ]
     },
     "execution_count": 22,
     "metadata": {},
     "output_type": "execute_result"
    }
   ],
   "source": [
    "n2=np.ravel(n34)\n",
    "n2"
   ]
  },
  {
   "cell_type": "code",
   "execution_count": 23,
   "metadata": {},
   "outputs": [
    {
     "data": {
      "text/plain": [
       "array([8989,    1,    2,    3,    4,    5,    6,    7,    8,    9,   10,\n",
       "         11])"
      ]
     },
     "execution_count": 23,
     "metadata": {},
     "output_type": "execute_result"
    }
   ],
   "source": [
    "n1[0]=8989\n",
    "n1"
   ]
  },
  {
   "cell_type": "code",
   "execution_count": 24,
   "metadata": {},
   "outputs": [
    {
     "data": {
      "text/plain": [
       "array([[999,   1,   2,   3],\n",
       "       [  4,   5,   6,   7],\n",
       "       [  8,   9,  10,  11]])"
      ]
     },
     "execution_count": 24,
     "metadata": {},
     "output_type": "execute_result"
    }
   ],
   "source": [
    "n34\n"
   ]
  },
  {
   "cell_type": "code",
   "execution_count": 25,
   "metadata": {},
   "outputs": [
    {
     "data": {
      "text/plain": [
       "array([1011,   15,   18,   21])"
      ]
     },
     "execution_count": 25,
     "metadata": {},
     "output_type": "execute_result"
    }
   ],
   "source": [
    "np.sum(n34,axis=0)"
   ]
  },
  {
   "cell_type": "code",
   "execution_count": 26,
   "metadata": {},
   "outputs": [
    {
     "data": {
      "text/plain": [
       "array([1005,   22,   38])"
      ]
     },
     "execution_count": 26,
     "metadata": {},
     "output_type": "execute_result"
    }
   ],
   "source": [
    "np.sum(n34,axis=1)"
   ]
  },
  {
   "cell_type": "code",
   "execution_count": 28,
   "metadata": {},
   "outputs": [
    {
     "data": {
      "text/plain": [
       "array([[999,   1,   2,   3],\n",
       "       [  4,   5,   6,   7],\n",
       "       [  8,   9,  10,  11]])"
      ]
     },
     "execution_count": 28,
     "metadata": {},
     "output_type": "execute_result"
    }
   ],
   "source": [
    "n34c=n34.copy()\n",
    "n34c"
   ]
  },
  {
   "cell_type": "markdown",
   "metadata": {},
   "source": [
    "splitting matrix"
   ]
  },
  {
   "cell_type": "code",
   "execution_count": 30,
   "metadata": {},
   "outputs": [
    {
     "data": {
      "text/plain": [
       "array([[93, 50, 83, 64, 41, 86, 49, 35],\n",
       "       [61, 16, 55, 22, 59, 76, 85, 95],\n",
       "       [79, 74, 22, 31, 58, 51, 89, 72],\n",
       "       [67, 29, 43, 69, 49, 25, 46, 75],\n",
       "       [11, 53, 25, 96, 93, 68, 35, 76],\n",
       "       [84, 45, 66, 23, 70, 32, 48, 41]])"
      ]
     },
     "execution_count": 30,
     "metadata": {},
     "output_type": "execute_result"
    }
   ],
   "source": [
    "np.random.seed(23)\n",
    "n68=np.random.randint(10,100,(6,8))\n",
    "n68"
   ]
  },
  {
   "cell_type": "code",
   "execution_count": 32,
   "metadata": {},
   "outputs": [
    {
     "name": "stdout",
     "output_type": "stream",
     "text": [
      "[array([[93, 50, 83, 64, 41, 86, 49, 35],\n",
      "       [61, 16, 55, 22, 59, 76, 85, 95],\n",
      "       [79, 74, 22, 31, 58, 51, 89, 72]]), array([[67, 29, 43, 69, 49, 25, 46, 75],\n",
      "       [11, 53, 25, 96, 93, 68, 35, 76],\n",
      "       [84, 45, 66, 23, 70, 32, 48, 41]])]\n",
      "<class 'list'>\n"
     ]
    }
   ],
   "source": [
    "x=np.vsplit(n68,2)\n",
    "print(x)\n",
    "print(type(x))"
   ]
  },
  {
   "cell_type": "code",
   "execution_count": 34,
   "metadata": {},
   "outputs": [
    {
     "name": "stdout",
     "output_type": "stream",
     "text": [
      "[array([[93, 50, 83, 64],\n",
      "       [61, 16, 55, 22],\n",
      "       [79, 74, 22, 31],\n",
      "       [67, 29, 43, 69],\n",
      "       [11, 53, 25, 96],\n",
      "       [84, 45, 66, 23]]), array([[41, 86, 49, 35],\n",
      "       [59, 76, 85, 95],\n",
      "       [58, 51, 89, 72],\n",
      "       [49, 25, 46, 75],\n",
      "       [93, 68, 35, 76],\n",
      "       [70, 32, 48, 41]])]\n"
     ]
    }
   ],
   "source": [
    "x1=np.hsplit(n68,2)\n",
    "print(x1)"
   ]
  },
  {
   "cell_type": "code",
   "execution_count": 35,
   "metadata": {},
   "outputs": [
    {
     "name": "stdout",
     "output_type": "stream",
     "text": [
      "[[93 50 83 64]\n",
      " [61 16 55 22]\n",
      " [79 74 22 31]\n",
      " [67 29 43 69]\n",
      " [11 53 25 96]\n",
      " [84 45 66 23]]\n",
      "[[41 86 49 35]\n",
      " [59 76 85 95]\n",
      " [58 51 89 72]\n",
      " [49 25 46 75]\n",
      " [93 68 35 76]\n",
      " [70 32 48 41]]\n"
     ]
    }
   ],
   "source": [
    "for item in x1:\n",
    "    print(item)"
   ]
  },
  {
   "cell_type": "code",
   "execution_count": 38,
   "metadata": {},
   "outputs": [
    {
     "name": "stdout",
     "output_type": "stream",
     "text": [
      "[[93 50]\n",
      " [61 16]\n",
      " [79 74]\n",
      " [67 29]\n",
      " [11 53]\n",
      " [84 45]]\n",
      "[[83 64]\n",
      " [55 22]\n",
      " [22 31]\n",
      " [43 69]\n",
      " [25 96]\n",
      " [66 23]]\n",
      "[[41 86]\n",
      " [59 76]\n",
      " [58 51]\n",
      " [49 25]\n",
      " [93 68]\n",
      " [70 32]]\n",
      "[[49 35]\n",
      " [85 95]\n",
      " [89 72]\n",
      " [46 75]\n",
      " [35 76]\n",
      " [48 41]]\n"
     ]
    }
   ],
   "source": [
    "x1=np.hsplit(n68,4)\n",
    "for item in x1:\n",
    "    print(item)"
   ]
  },
  {
   "cell_type": "code",
   "execution_count": 40,
   "metadata": {},
   "outputs": [
    {
     "name": "stdout",
     "output_type": "stream",
     "text": [
      "[[93 50]\n",
      " [61 16]\n",
      " [79 74]\n",
      " [67 29]\n",
      " [11 53]\n",
      " [84 45]]\n",
      "\n",
      "[[83 64 41]\n",
      " [55 22 59]\n",
      " [22 31 58]\n",
      " [43 69 49]\n",
      " [25 96 93]\n",
      " [66 23 70]]\n",
      "\n",
      "[[86]\n",
      " [76]\n",
      " [51]\n",
      " [25]\n",
      " [68]\n",
      " [32]]\n",
      "\n",
      "[[49 35]\n",
      " [85 95]\n",
      " [89 72]\n",
      " [46 75]\n",
      " [35 76]\n",
      " [48 41]]\n",
      "\n"
     ]
    }
   ],
   "source": [
    "x1=np.hsplit(n68, [2,5,6])\n",
    "for item in x1:\n",
    "    print(item)\n",
    "    print()"
   ]
  },
  {
   "cell_type": "code",
   "execution_count": 41,
   "metadata": {},
   "outputs": [
    {
     "name": "stdout",
     "output_type": "stream",
     "text": [
      "[[93]\n",
      " [61]\n",
      " [79]\n",
      " [67]\n",
      " [11]\n",
      " [84]]\n",
      "\n",
      "[[50 83 64]\n",
      " [16 55 22]\n",
      " [74 22 31]\n",
      " [29 43 69]\n",
      " [53 25 96]\n",
      " [45 66 23]]\n",
      "\n",
      "[[41]\n",
      " [59]\n",
      " [58]\n",
      " [49]\n",
      " [93]\n",
      " [70]]\n",
      "\n",
      "[[86 49]\n",
      " [76 85]\n",
      " [51 89]\n",
      " [25 46]\n",
      " [68 35]\n",
      " [32 48]]\n",
      "\n",
      "[[35]\n",
      " [95]\n",
      " [72]\n",
      " [75]\n",
      " [76]\n",
      " [41]]\n",
      "\n"
     ]
    }
   ],
   "source": [
    "x1=np.hsplit(n68, [1,4,5,7])\n",
    "for item in x1:\n",
    "    print(item)\n",
    "    print()"
   ]
  },
  {
   "cell_type": "code",
   "execution_count": 42,
   "metadata": {},
   "outputs": [
    {
     "name": "stdout",
     "output_type": "stream",
     "text": [
      "[[88 10 31 16]\n",
      " [42 42 24 41]\n",
      " [88 93 90 80]]\n",
      "[[76 92 95 65]\n",
      " [37 72 53 84]\n",
      " [81 52 93 31]\n",
      " [16 78 32 53]\n",
      " [18 95 72 42]]\n"
     ]
    }
   ],
   "source": [
    "n34=np.random.randint(10,100,(3,4))\n",
    "n54=np.random.randint(10,100,(5,4))\n",
    "print(n34)\n",
    "print(n54)"
   ]
  },
  {
   "cell_type": "code",
   "execution_count": 45,
   "metadata": {},
   "outputs": [
    {
     "name": "stdout",
     "output_type": "stream",
     "text": [
      "[[88 10 31 16]\n",
      " [42 42 24 41]\n",
      " [88 93 90 80]\n",
      " [76 92 95 65]\n",
      " [37 72 53 84]\n",
      " [81 52 93 31]\n",
      " [16 78 32 53]\n",
      " [18 95 72 42]]\n"
     ]
    }
   ],
   "source": [
    "xv=np.vstack((n34,n54))\n",
    "print(xv)"
   ]
  },
  {
   "cell_type": "markdown",
   "metadata": {},
   "source": [
    "stack along new axis"
   ]
  },
  {
   "cell_type": "code",
   "execution_count": 47,
   "metadata": {},
   "outputs": [
    {
     "name": "stdout",
     "output_type": "stream",
     "text": [
      "[[10 21 72 98]\n",
      " [64 99 88 51]\n",
      " [80 95 15 17]]\n",
      "[[14 26 19 66]\n",
      " [58 53 72 80]\n",
      " [41 12 10 25]]\n"
     ]
    }
   ],
   "source": [
    "n34a=np.random.randint(10,100,(3,4))\n",
    "n34b=np.random.randint(10,100,(3,4))\n",
    "print(n34a)\n",
    "print(n34b)"
   ]
  },
  {
   "cell_type": "code",
   "execution_count": 48,
   "metadata": {},
   "outputs": [
    {
     "name": "stdout",
     "output_type": "stream",
     "text": [
      "[[[10 14]\n",
      "  [21 26]\n",
      "  [72 19]\n",
      "  [98 66]]\n",
      "\n",
      " [[64 58]\n",
      "  [99 53]\n",
      "  [88 72]\n",
      "  [51 80]]\n",
      "\n",
      " [[80 41]\n",
      "  [95 12]\n",
      "  [15 10]\n",
      "  [17 25]]]\n",
      "\n",
      "(3, 4, 2)\n"
     ]
    }
   ],
   "source": [
    "a=np.stack((n34a,n34b),axis=2)\n",
    "print(a)\n",
    "print()\n",
    "print(a.shape)"
   ]
  },
  {
   "cell_type": "code",
   "execution_count": 49,
   "metadata": {},
   "outputs": [
    {
     "name": "stdout",
     "output_type": "stream",
     "text": [
      "[[[10 21 72 98]\n",
      "  [14 26 19 66]]\n",
      "\n",
      " [[64 99 88 51]\n",
      "  [58 53 72 80]]\n",
      "\n",
      " [[80 95 15 17]\n",
      "  [41 12 10 25]]]\n",
      "\n",
      "(3, 2, 4)\n"
     ]
    }
   ],
   "source": [
    "a=np.stack((n34a,n34b),axis=1)\n",
    "print(a)\n",
    "print()\n",
    "print(a.shape)"
   ]
  },
  {
   "cell_type": "markdown",
   "metadata": {},
   "source": [
    "loops"
   ]
  },
  {
   "cell_type": "code",
   "execution_count": 50,
   "metadata": {},
   "outputs": [
    {
     "name": "stdout",
     "output_type": "stream",
     "text": [
      "[88 10 31 16]\n",
      "[42 42 24 41]\n",
      "[88 93 90 80]\n"
     ]
    }
   ],
   "source": [
    "for item in n34:\n",
    "    print(item)"
   ]
  },
  {
   "cell_type": "code",
   "execution_count": 51,
   "metadata": {},
   "outputs": [
    {
     "name": "stdout",
     "output_type": "stream",
     "text": [
      "[[10 21 72 98]\n",
      " [14 26 19 66]]\n",
      "[[64 99 88 51]\n",
      " [58 53 72 80]]\n",
      "[[80 95 15 17]\n",
      " [41 12 10 25]]\n"
     ]
    }
   ],
   "source": [
    "for item in a:\n",
    "    print(item)"
   ]
  },
  {
   "cell_type": "code",
   "execution_count": 52,
   "metadata": {},
   "outputs": [
    {
     "name": "stdout",
     "output_type": "stream",
     "text": [
      "88\n",
      "10\n",
      "31\n",
      "16\n",
      "42\n",
      "42\n",
      "24\n",
      "41\n",
      "88\n",
      "93\n",
      "90\n",
      "80\n"
     ]
    }
   ],
   "source": [
    "for element in np.nditer(n34):\n",
    "    print(element)"
   ]
  }
 ],
 "metadata": {
  "kernelspec": {
   "display_name": "Python 3",
   "language": "python",
   "name": "python3"
  },
  "language_info": {
   "codemirror_mode": {
    "name": "ipython",
    "version": 3
   },
   "file_extension": ".py",
   "mimetype": "text/x-python",
   "name": "python",
   "nbconvert_exporter": "python",
   "pygments_lexer": "ipython3",
   "version": "3.8.5"
  }
 },
 "nbformat": 4,
 "nbformat_minor": 4
}
