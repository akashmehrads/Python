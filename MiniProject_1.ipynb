{
 "cells": [
  {
   "cell_type": "code",
   "execution_count": 7,
   "metadata": {},
   "outputs": [
    {
     "name": "stdout",
     "output_type": "stream",
     "text": [
      "{'Shipment Id': [101, 102, 103, 104, 105, 106], 'Sender': [1, 4, 2, 1, 3, 5], 'Receiver': [3, 1, 3, 5, 4, 2], 'Start_Date': ['14-03-2020', '18-06-2020', '01-12-2020', '23-06-2020', '29-08-2020', '28-06-2020'], 'Delivery_Date': ['25-03-2020', '09-07-2020', 'NULL', '25-06-2020', '10-09-2020', 'NULL'], 'Sender_Location': ['Area1', 'Area2', 'Area5', 'Area1', 'Area5', 'Area3'], 'Receiver_Location': ['Area6', 'Area4', 'Area1', 'Area4', 'Area3', 'Area1'], 'Delivery Status': ['Delivered', 'Delivered', 'In-Transit', 'Delivered', 'Delivered', 'In-Transit'], 'Shipping Cost': [198, 275, 200, 314, 275, 270]}\n"
     ]
    }
   ],
   "source": [
    "#Q1\n",
    "shipment_d={'Shipment Id':[101,102,103,104,105,106],'Sender':[1,4,2,1,3,5],'Receiver':[3,1,3,5,4,2],\n",
    "     'Start_Date':['14-03-2020','18-06-2020','01-12-2020','23-06-2020','29-08-2020','28-06-2020'],\n",
    "     'Delivery_Date':['25-03-2020','09-07-2020','NULL','25-06-2020','10-09-2020','NULL'],\n",
    "     'Sender_Location':['Area1','Area2','Area5','Area1','Area5','Area3'],\n",
    "     'Receiver_Location':['Area6','Area4','Area1','Area4','Area3','Area1'],\n",
    "     'Delivery Status':['Delivered','Delivered','In-Transit','Delivered','Delivered','In-Transit'],\n",
    "     'Shipping Cost':[198,275,200,314,275,270]}\n",
    "print(shipment_d)"
   ]
  },
  {
   "cell_type": "code",
   "execution_count": 8,
   "metadata": {},
   "outputs": [
    {
     "name": "stdout",
     "output_type": "stream",
     "text": [
      "   Shipment Id  Sender  Receiver  Start_Date Delivery_Date Sender_Location  \\\n",
      "0          101       1         3  14-03-2020    25-03-2020           Area1   \n",
      "1          102       4         1  18-06-2020    09-07-2020           Area2   \n",
      "2          103       2         3  01-12-2020          NULL           Area5   \n",
      "3          104       1         5  23-06-2020    25-06-2020           Area1   \n",
      "4          105       3         4  29-08-2020    10-09-2020           Area5   \n",
      "5          106       5         2  28-06-2020          NULL           Area3   \n",
      "\n",
      "  Receiver_Location Delivery Status  Shipping Cost  \n",
      "0             Area6       Delivered            198  \n",
      "1             Area4       Delivered            275  \n",
      "2             Area1      In-Transit            200  \n",
      "3             Area4       Delivered            314  \n",
      "4             Area3       Delivered            275  \n",
      "5             Area1      In-Transit            270  \n"
     ]
    }
   ],
   "source": [
    "import pandas as pd\n",
    "df1=pd.DataFrame(shipment_d)\n",
    "print(df1)"
   ]
  },
  {
   "cell_type": "code",
   "execution_count": 9,
   "metadata": {},
   "outputs": [
    {
     "data": {
      "text/plain": [
       "{'Client_Id': [1, 2, 3, 4, 5],\n",
       " 'Client Name': ['Philip', 'Omega111', 'Ramya', 'Romesh', 'John']}"
      ]
     },
     "execution_count": 9,
     "metadata": {},
     "output_type": "execute_result"
    }
   ],
   "source": [
    "#Q2\n",
    "client_d={'Client_Id':[1,2,3,4,5],'Client Name':['Philip','Omega111','Ramya','Romesh','John']}\n",
    "client_d"
   ]
  },
  {
   "cell_type": "code",
   "execution_count": 11,
   "metadata": {},
   "outputs": [
    {
     "data": {
      "text/html": [
       "<div>\n",
       "<style scoped>\n",
       "    .dataframe tbody tr th:only-of-type {\n",
       "        vertical-align: middle;\n",
       "    }\n",
       "\n",
       "    .dataframe tbody tr th {\n",
       "        vertical-align: top;\n",
       "    }\n",
       "\n",
       "    .dataframe thead th {\n",
       "        text-align: right;\n",
       "    }\n",
       "</style>\n",
       "<table border=\"1\" class=\"dataframe\">\n",
       "  <thead>\n",
       "    <tr style=\"text-align: right;\">\n",
       "      <th></th>\n",
       "      <th>Client_Id</th>\n",
       "      <th>Client Name</th>\n",
       "    </tr>\n",
       "  </thead>\n",
       "  <tbody>\n",
       "    <tr>\n",
       "      <th>0</th>\n",
       "      <td>1</td>\n",
       "      <td>Philip</td>\n",
       "    </tr>\n",
       "    <tr>\n",
       "      <th>1</th>\n",
       "      <td>2</td>\n",
       "      <td>Omega111</td>\n",
       "    </tr>\n",
       "    <tr>\n",
       "      <th>2</th>\n",
       "      <td>3</td>\n",
       "      <td>Ramya</td>\n",
       "    </tr>\n",
       "    <tr>\n",
       "      <th>3</th>\n",
       "      <td>4</td>\n",
       "      <td>Romesh</td>\n",
       "    </tr>\n",
       "    <tr>\n",
       "      <th>4</th>\n",
       "      <td>5</td>\n",
       "      <td>John</td>\n",
       "    </tr>\n",
       "  </tbody>\n",
       "</table>\n",
       "</div>"
      ],
      "text/plain": [
       "   Client_Id Client Name\n",
       "0          1      Philip\n",
       "1          2    Omega111\n",
       "2          3       Ramya\n",
       "3          4      Romesh\n",
       "4          5        John"
      ]
     },
     "execution_count": 11,
     "metadata": {},
     "output_type": "execute_result"
    }
   ],
   "source": [
    "df2=pd.DataFrame(client_d)\n",
    "df2"
   ]
  },
  {
   "cell_type": "code",
   "execution_count": 17,
   "metadata": {},
   "outputs": [
    {
     "data": {
      "text/plain": [
       "dict_values([[101, 102, 103, 104, 105, 106], [1, 4, 2, 1, 3, 5], [3, 1, 3, 5, 4, 2], ['14-03-2020', '18-06-2020', '01-12-2020', '23-06-2020', '29-08-2020', '28-06-2020'], ['25-03-2020', '09-07-2020', 'NULL', '25-06-2020', '10-09-2020', 'NULL'], ['Area1', 'Area2', 'Area5', 'Area1', 'Area5', 'Area3'], ['Area6', 'Area4', 'Area1', 'Area4', 'Area3', 'Area1'], ['Delivered', 'Delivered', 'In-Transit', 'Delivered', 'Delivered', 'In-Transit'], [198, 275, 200, 314, 275, 270]])"
      ]
     },
     "execution_count": 17,
     "metadata": {},
     "output_type": "execute_result"
    }
   ],
   "source": [
    "shipment_d.values()"
   ]
  },
  {
   "cell_type": "code",
   "execution_count": 25,
   "metadata": {},
   "outputs": [
    {
     "name": "stdout",
     "output_type": "stream",
     "text": [
      "None\n"
     ]
    }
   ],
   "source": [
    "map_dict={'1':'Philip','2':'Omega111','3':'Ramya','4':'Romesh','5':'John'}\n",
    "print(shipment_d.update(map_dict))\n"
   ]
  },
  {
   "cell_type": "code",
   "execution_count": null,
   "metadata": {},
   "outputs": [],
   "source": []
  },
  {
   "cell_type": "code",
   "execution_count": null,
   "metadata": {},
   "outputs": [],
   "source": []
  }
 ],
 "metadata": {
  "kernelspec": {
   "display_name": "Python 3",
   "language": "python",
   "name": "python3"
  },
  "language_info": {
   "codemirror_mode": {
    "name": "ipython",
    "version": 3
   },
   "file_extension": ".py",
   "mimetype": "text/x-python",
   "name": "python",
   "nbconvert_exporter": "python",
   "pygments_lexer": "ipython3",
   "version": "3.8.5"
  }
 },
 "nbformat": 4,
 "nbformat_minor": 4
}
